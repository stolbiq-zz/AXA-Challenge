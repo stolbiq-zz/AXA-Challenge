{
 "cells": [
  {
   "cell_type": "code",
   "execution_count": 112,
   "metadata": {
    "collapsed": false
   },
   "outputs": [],
   "source": [
    "import pandas as pd\n",
    "import numpy as np\n",
    "M=100000\n",
    "data = pd.read_csv('train_2011_2012_2013.csv',delimiter=';',usecols=['DATE','ASS_ASSIGNMENT','CSPL_RECEIVED_CALLS'], nrows=M)\n",
    "#data = pd.read_csv('train_2011_2012_2013.csv',delimiter=';',usecols=['DATE','ASS_ASSIGNMENT','CSPL_RECEIVED_CALLS'])"
   ]
  },
  {
   "cell_type": "code",
   "execution_count": 113,
   "metadata": {
    "collapsed": false
   },
   "outputs": [],
   "source": [
    "d = pd.DataFrame(data.groupby(['DATE', 'ASS_ASSIGNMENT'])['CSPL_RECEIVED_CALLS'].sum())\n",
    "d.reset_index(level=0, inplace=True)\n",
    "d.reset_index(level=0, inplace=True)\n",
    "data = d"
   ]
  },
  {
   "cell_type": "code",
   "execution_count": null,
   "metadata": {
    "collapsed": false
   },
   "outputs": [],
   "source": []
  },
  {
   "cell_type": "code",
   "execution_count": 114,
   "metadata": {
    "collapsed": false,
    "scrolled": true
   },
   "outputs": [],
   "source": [
    "import time\n",
    "data['time'] = data['DATE'].apply(lambda x: time.strptime(x, '%Y-%m-%d %H:%M:%S.000'))\n",
    "data['day_week'] = data['time'].apply(lambda x: time.strftime(\"%w\", x))\n",
    "data['month'] = data['time'].apply(lambda x: time.strftime(\"%m\", x))"
   ]
  },
  {
   "cell_type": "code",
   "execution_count": 115,
   "metadata": {
    "collapsed": false
   },
   "outputs": [
    {
     "data": {
      "text/plain": [
       "Nuit                              1543\n",
       "Médical                           1543\n",
       "Téléphonie                        1543\n",
       "Tech. Inter                       1542\n",
       "RENAULT                           1542\n",
       "Domicile                          1542\n",
       "Services                          1541\n",
       "Gestion                           1540\n",
       "Japon                             1540\n",
       "SAP                               1528\n",
       "Gestion - Accueil Telephonique    1515\n",
       "Gestion Renault                   1476\n",
       "Crises                            1450\n",
       "Tech. Axa                         1389\n",
       "Regulation Medicale               1325\n",
       "Gestion Assurances                1202\n",
       "Gestion Amex                      1192\n",
       "Tech. Total                        961\n",
       "Gestion Clients                    736\n",
       "Manager                            604\n",
       "Gestion DZ                         507\n",
       "Gestion Relation Clienteles        450\n",
       "RTC                                361\n",
       "Mécanicien                         340\n",
       "Prestataires                       112\n",
       "CMS                                101\n",
       "CAT                                 68\n",
       "Evenements                          17\n",
       "Name: ASS_ASSIGNMENT, dtype: int64"
      ]
     },
     "execution_count": 115,
     "metadata": {},
     "output_type": "execute_result"
    }
   ],
   "source": [
    "data['ASS_ASSIGNMENT'].value_counts()"
   ]
  },
  {
   "cell_type": "code",
   "execution_count": 116,
   "metadata": {
    "collapsed": false
   },
   "outputs": [
    {
     "data": {
      "text/plain": [
       "<matplotlib.axes._subplots.AxesSubplot at 0x1f3166786d8>"
      ]
     },
     "execution_count": 116,
     "metadata": {},
     "output_type": "execute_result"
    },
    {
     "data": {
      "image/png": "[encoded data removed]",
      "text/plain": [
       "<matplotlib.figure.Figure at 0x1f31fcf6f60>"
      ]
     },
     "metadata": {},
     "output_type": "display_data"
    }
   ],
   "source": [
    "%matplotlib inline\n",
    "import matplotlib.pyplot as plt\n",
    "plt.yscale('log')\n",
    "data['CSPL_RECEIVED_CALLS'].hist(bins=30)"
   ]
  },
  {
   "cell_type": "code",
   "execution_count": 117,
   "metadata": {
    "collapsed": false
   },
   "outputs": [],
   "source": [
    "### New features: dummies for the day of the week, ASS_ASSIGNMENT, months\n",
    "\n",
    "data = pd.concat((data, pd.get_dummies(data['day_week'])),axis=1)\n",
    "data = pd.concat((data, pd.get_dummies(data['ASS_ASSIGNMENT'])),axis=1)\n",
    "data = pd.concat((data, pd.get_dummies(data['month'])),axis=1)"
   ]
  },
  {
   "cell_type": "code",
   "execution_count": null,
   "metadata": {
    "collapsed": false
   },
   "outputs": [],
   "source": []
  },
  {
   "cell_type": "code",
   "execution_count": 118,
   "metadata": {
    "collapsed": true
   },
   "outputs": [],
   "source": [
    "data['H-M'] = data['time'].apply(lambda t: time.strftime(\"%H-%M\", t))"
   ]
  },
  {
   "cell_type": "code",
   "execution_count": 119,
   "metadata": {
    "collapsed": false
   },
   "outputs": [],
   "source": [
    "### New feature: hours since the start of the day\n",
    "\n",
    "data['hours'] = data['time'].apply(lambda x: float(time.strftime(\"%H\", x))+np.sign(float(time.strftime(\"%M\", x)))*0.5)"
   ]
  },
  {
   "cell_type": "code",
   "execution_count": 120,
   "metadata": {
    "collapsed": false
   },
   "outputs": [
    {
     "data": {
      "text/plain": [
       "0.0    2290\n",
       "3.5    2274\n",
       "5.5    2273\n",
       "1.0    2273\n",
       "5.0    2269\n",
       "4.5    2267\n",
       "0.5    2267\n",
       "4.0    2266\n",
       "3.0    2258\n",
       "2.5    2254\n",
       "2.0    2248\n",
       "1.5    2247\n",
       "6.0    1337\n",
       "7.0     621\n",
       "6.5      66\n",
       "Name: hours, dtype: int64"
      ]
     },
     "execution_count": 120,
     "metadata": {},
     "output_type": "execute_result"
    }
   ],
   "source": [
    "data['hours'].value_counts()"
   ]
  },
  {
   "cell_type": "code",
   "execution_count": 121,
   "metadata": {
    "collapsed": false
   },
   "outputs": [],
   "source": [
    "### date scince epoch\n",
    "data['time_absolut'] = data['time'].apply(time.mktime)"
   ]
  },
  {
   "cell_type": "code",
   "execution_count": 122,
   "metadata": {
    "collapsed": false
   },
   "outputs": [
    {
     "data": {
      "text/plain": [
       "time.struct_time(tm_year=2011, tm_mon=4, tm_mday=30, tm_hour=4, tm_min=0, tm_sec=0, tm_wday=5, tm_yday=120, tm_isdst=0)"
      ]
     },
     "execution_count": 122,
     "metadata": {},
     "output_type": "execute_result"
    }
   ],
   "source": [
    "time.gmtime(data['time_absolut'].max())"
   ]
  },
  {
   "cell_type": "code",
   "execution_count": 123,
   "metadata": {
    "collapsed": false
   },
   "outputs": [
    {
     "data": {
      "text/plain": [
       "time.struct_time(tm_year=2010, tm_mon=12, tm_mday=31, tm_hour=23, tm_min=0, tm_sec=0, tm_wday=4, tm_yday=365, tm_isdst=0)"
      ]
     },
     "execution_count": 123,
     "metadata": {},
     "output_type": "execute_result"
    }
   ],
   "source": [
    "time.gmtime(data['time_absolut'].min())"
   ]
  },
  {
   "cell_type": "code",
   "execution_count": null,
   "metadata": {
    "collapsed": true
   },
   "outputs": [],
   "source": []
  },
  {
   "cell_type": "code",
   "execution_count": 124,
   "metadata": {
    "collapsed": false
   },
   "outputs": [],
   "source": [
    "### New feature: average number of calls during h hours before the time for the specific category\n",
    "\n",
    "def get_window1(x, h):\n",
    "    interval = h*3600\n",
    "    tmp = data[data['ASS_ASSIGNMENT'] == x['ASS_ASSIGNMENT']]\n",
    "    tmp = tmp[tmp['time_absolut'] >= x['time_absolut']-interval] \n",
    "    tmp = tmp[tmp['time_absolut'] < x['time_absolut']]\n",
    "    return tmp['CSPL_RECEIVED_CALLS'].mean()\n",
    "\n",
    "data['mean_calls_24h_past_time'] = data[['time_absolut','ASS_ASSIGNMENT','CSPL_RECEIVED_CALLS']].apply(lambda p: get_window1(p, 24),axis=1)"
   ]
  },
  {
   "cell_type": "code",
   "execution_count": 125,
   "metadata": {
    "collapsed": false
   },
   "outputs": [
    {
     "data": {
      "text/plain": [
       "0              NaN\n",
       "1              NaN\n",
       "2              NaN\n",
       "3              NaN\n",
       "4              NaN\n",
       "5              NaN\n",
       "6              NaN\n",
       "7              NaN\n",
       "8              NaN\n",
       "9              NaN\n",
       "10             NaN\n",
       "11             NaN\n",
       "12             NaN\n",
       "13             NaN\n",
       "14             NaN\n",
       "15             NaN\n",
       "16             NaN\n",
       "17             NaN\n",
       "18             NaN\n",
       "19        0.000000\n",
       "20        0.000000\n",
       "21        0.000000\n",
       "22        0.000000\n",
       "23        0.000000\n",
       "24        0.000000\n",
       "25        0.000000\n",
       "26        0.000000\n",
       "27        0.000000\n",
       "28        0.000000\n",
       "29        0.000000\n",
       "           ...    \n",
       "29180     0.000000\n",
       "29181     0.000000\n",
       "29182     0.000000\n",
       "29183     0.000000\n",
       "29184     0.000000\n",
       "29185    11.461538\n",
       "29186     0.000000\n",
       "29187     0.000000\n",
       "29188     0.461538\n",
       "29189     0.000000\n",
       "29190     0.000000\n",
       "29191     0.000000\n",
       "29192     1.846154\n",
       "29193     0.000000\n",
       "29194     0.000000\n",
       "29195     0.000000\n",
       "29196     0.000000\n",
       "29197     0.000000\n",
       "29198     0.000000\n",
       "29199     0.000000\n",
       "29200     0.000000\n",
       "29201     0.000000\n",
       "29202    11.538462\n",
       "29203     0.000000\n",
       "29204     0.000000\n",
       "29205     0.461538\n",
       "29206     0.000000\n",
       "29207     0.000000\n",
       "29208     0.000000\n",
       "29209     1.846154\n",
       "Name: mean_calls_24h_past_time, dtype: float64"
      ]
     },
     "execution_count": 125,
     "metadata": {},
     "output_type": "execute_result"
    }
   ],
   "source": [
    "data['mean_calls_24h_past_time']"
   ]
  },
  {
   "cell_type": "code",
   "execution_count": 126,
   "metadata": {
    "collapsed": false,
    "scrolled": true
   },
   "outputs": [],
   "source": [
    "### New feature: average over all the dates for the specific category and time\n",
    "\n",
    "def get_window(x):\n",
    "    tmp = data[data['ASS_ASSIGNMENT'] == x['ASS_ASSIGNMENT']]\n",
    "    return tmp[tmp['H-M'] == x['H-M']]['CSPL_RECEIVED_CALLS'].mean()\n",
    "\n",
    "data['mean_calls_time_ASS'] = data[['H-M','ASS_ASSIGNMENT','CSPL_RECEIVED_CALLS']].apply(get_window,axis=1)"
   ]
  },
  {
   "cell_type": "code",
   "execution_count": 127,
   "metadata": {
    "collapsed": false
   },
   "outputs": [],
   "source": [
    "#data[['mean_calls_time_ASS', 'DATE','ASS_ASSIGNMENT']]"
   ]
  },
  {
   "cell_type": "code",
   "execution_count": 128,
   "metadata": {
    "collapsed": false
   },
   "outputs": [],
   "source": [
    "#pp = data[data['H-M']==\"00-00\"]\n",
    "#pp = pp[pp['ASS_ASSIGNMENT']==\"Nuit\"]\n",
    "#pp['CSPL_RECEIVED_CALLS']"
   ]
  },
  {
   "cell_type": "code",
   "execution_count": 129,
   "metadata": {
    "collapsed": false
   },
   "outputs": [],
   "source": [
    "### New feature: average over all the dates for the specific time\n",
    "\n",
    "def get_window(x):\n",
    "    tmp = data\n",
    "    return tmp[tmp['H-M'] == x['H-M']]['CSPL_RECEIVED_CALLS'].mean()\n",
    "\n",
    "data['mean_calls_time'] = data[['H-M','ASS_ASSIGNMENT','CSPL_RECEIVED_CALLS']].apply(get_window,axis=1)"
   ]
  },
  {
   "cell_type": "code",
   "execution_count": null,
   "metadata": {
    "collapsed": false
   },
   "outputs": [],
   "source": []
  },
  {
   "cell_type": "code",
   "execution_count": 130,
   "metadata": {
    "collapsed": false
   },
   "outputs": [],
   "source": [
    "#data[['mean_calls_time_ASS', 'DATE', 'ASS_ASSIGNMENT']]"
   ]
  },
  {
   "cell_type": "code",
   "execution_count": 131,
   "metadata": {
    "collapsed": false
   },
   "outputs": [],
   "source": [
    "indexes = np.concatenate((data.day_week.unique(), data.ASS_ASSIGNMENT.unique()))\n",
    "indexes = np.concatenate((indexes, data.month.unique()))\n",
    "indexes = np.concatenate((indexes, data.ASS_ASSIGNMENT.unique()))\n",
    "#indexes = np.concatenate((indexes, ['hours','mean_calls_24h_past_time','mean_calls_time_ASS','mean_calls_time']))\n",
    "indexes = np.concatenate((indexes, ['hours','mean_calls_time_ASS','mean_calls_time']))\n"
   ]
  },
  {
   "cell_type": "code",
   "execution_count": 132,
   "metadata": {
    "collapsed": false
   },
   "outputs": [
    {
     "data": {
      "text/plain": [
       "array(['6', '0', '1', '2', '3', '4', '5', 'Crises', 'Domicile', 'Gestion',\n",
       "       'Gestion - Accueil Telephonique', 'Gestion Amex',\n",
       "       'Gestion Assurances', 'Gestion Clients', 'Gestion Renault', 'Japon',\n",
       "       'Manager', 'Médical', 'Nuit', 'RENAULT', 'Regulation Medicale',\n",
       "       'SAP', 'Services', 'Tech. Axa', 'Tech. Inter', 'Téléphonie',\n",
       "       'Tech. Total', 'CAT', 'Gestion DZ', 'Mécanicien',\n",
       "       'Gestion Relation Clienteles', 'RTC', 'CMS', 'Prestataires',\n",
       "       'Evenements', '01', '02', '03', '04', 'Crises', 'Domicile',\n",
       "       'Gestion', 'Gestion - Accueil Telephonique', 'Gestion Amex',\n",
       "       'Gestion Assurances', 'Gestion Clients', 'Gestion Renault', 'Japon',\n",
       "       'Manager', 'Médical', 'Nuit', 'RENAULT', 'Regulation Medicale',\n",
       "       'SAP', 'Services', 'Tech. Axa', 'Tech. Inter', 'Téléphonie',\n",
       "       'Tech. Total', 'CAT', 'Gestion DZ', 'Mécanicien',\n",
       "       'Gestion Relation Clienteles', 'RTC', 'CMS', 'Prestataires',\n",
       "       'Evenements', 'hours', 'mean_calls_time_ASS', 'mean_calls_time'], dtype=object)"
      ]
     },
     "execution_count": 132,
     "metadata": {},
     "output_type": "execute_result"
    }
   ],
   "source": [
    "indexes"
   ]
  },
  {
   "cell_type": "code",
   "execution_count": 133,
   "metadata": {
    "collapsed": false
   },
   "outputs": [],
   "source": [
    "from sklearn.ensemble import RandomForestRegressor as rf\n",
    "from sklearn.cross_validation import train_test_split\n",
    "\n",
    "X = data[indexes]\n",
    "Y = data['CSPL_RECEIVED_CALLS']\n",
    "X_train, X_test, y_train, y_test = train_test_split(X,Y)"
   ]
  },
  {
   "cell_type": "code",
   "execution_count": null,
   "metadata": {
    "collapsed": false
   },
   "outputs": [],
   "source": []
  },
  {
   "cell_type": "code",
   "execution_count": 134,
   "metadata": {
    "collapsed": false
   },
   "outputs": [],
   "source": [
    "model = rf()\n",
    "model.fit(X_train,y_train)\n",
    "pred = model.predict(X_test)"
   ]
  },
  {
   "cell_type": "code",
   "execution_count": 135,
   "metadata": {
    "collapsed": false
   },
   "outputs": [],
   "source": [
    "pred = np.round(pred)"
   ]
  },
  {
   "cell_type": "code",
   "execution_count": 136,
   "metadata": {
    "collapsed": false
   },
   "outputs": [
    {
     "data": {
      "text/plain": [
       "0.75444054052274323"
      ]
     },
     "execution_count": 136,
     "metadata": {},
     "output_type": "execute_result"
    }
   ],
   "source": [
    "from sklearn.metrics import r2_score\n",
    "from sklearn.metrics import mean_squared_error\n",
    "r2_score(y_test, pred)\n",
    "#mean_squared_error(y_test, pred)"
   ]
  },
  {
   "cell_type": "code",
   "execution_count": 137,
   "metadata": {
    "collapsed": false
   },
   "outputs": [],
   "source": [
    "#y_test"
   ]
  },
  {
   "cell_type": "code",
   "execution_count": 103,
   "metadata": {
    "collapsed": true
   },
   "outputs": [],
   "source": [
    "data = pd.read_table('submission.txt')"
   ]
  },
  {
   "cell_type": "code",
   "execution_count": null,
   "metadata": {
    "collapsed": true
   },
   "outputs": [],
   "source": []
  }
 ],
 "metadata": {
  "anaconda-cloud": {},
  "kernelspec": {
   "display_name": "Python [Root]",
   "language": "python",
   "name": "Python [Root]"
  },
  "language_info": {
   "codemirror_mode": {
    "name": "ipython",
    "version": 3
   },
   "file_extension": ".py",
   "mimetype": "text/x-python",
   "name": "python",
   "nbconvert_exporter": "python",
   "pygments_lexer": "ipython3",
   "version": "3.5.2"
  }
 },
 "nbformat": 4,
 "nbformat_minor": 0
}
