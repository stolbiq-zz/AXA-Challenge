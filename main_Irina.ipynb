{
 "cells": [
  {
   "cell_type": "code",
   "execution_count": 1,
   "metadata": {
    "collapsed": false
   },
   "outputs": [],
   "source": [
    "### Decide about the features to take according to the submission file\n",
    "\n",
    "import pandas as pd\n",
    "import numpy as np\n",
    "data1 = pd.read_table('submission.txt')"
   ]
  },
  {
   "cell_type": "code",
   "execution_count": 2,
   "metadata": {
    "collapsed": true
   },
   "outputs": [],
   "source": [
    "import time\n",
    "data1['time'] = data1['DATE'].apply(lambda x: time.strptime(x, '%Y-%m-%d %H:%M:%S.000'))\n",
    "data1['day_week'] = data1['time'].apply(lambda x: time.strftime(\"%w\", x))\n",
    "data1['month'] = data1['time'].apply(lambda x: time.strftime(\"%m\", x))"
   ]
  },
  {
   "cell_type": "code",
   "execution_count": 3,
   "metadata": {
    "collapsed": true
   },
   "outputs": [],
   "source": [
    "### New features: dummies for the day of the week, ASS_ASSIGNMENT, months\n",
    "\n",
    "data1 = pd.concat((data1, pd.get_dummies(data1['day_week'])),axis=1)\n",
    "data1 = pd.concat((data1, pd.get_dummies(data1['ASS_ASSIGNMENT'])),axis=1)\n",
    "data1 = pd.concat((data1, pd.get_dummies(data1['month'])),axis=1)\n"
   ]
  },
  {
   "cell_type": "code",
   "execution_count": 4,
   "metadata": {
    "collapsed": true
   },
   "outputs": [],
   "source": [
    "### New feature: hours since the start of the day\n",
    "\n",
    "data1['time_absolut'] = data1['time'].apply(time.mktime) ### date scince epoch\n",
    "data1['hours'] = data1['time'].apply(lambda x: float(time.strftime(\"%H\", x))+np.sign(float(time.strftime(\"%M\", x)))*0.5)"
   ]
  },
  {
   "cell_type": "code",
   "execution_count": 6,
   "metadata": {
    "collapsed": false
   },
   "outputs": [],
   "source": [
    "indexes = np.concatenate((data1.day_week.unique(), data1.ASS_ASSIGNMENT.unique()))\n",
    "#indexes = np.concatenate((indexes, data.month.unique()))\n",
    "indexes = np.concatenate((indexes, data1.ASS_ASSIGNMENT.unique()))\n",
    "indexes = np.concatenate((indexes, ['hours']))\n",
    "indexes = np.concatenate((indexes, ['mean_calls_time_ASS','mean_calls_time']))"
   ]
  },
  {
   "cell_type": "code",
   "execution_count": null,
   "metadata": {
    "collapsed": true
   },
   "outputs": [],
   "source": []
  },
  {
   "cell_type": "code",
   "execution_count": 7,
   "metadata": {
    "collapsed": true
   },
   "outputs": [],
   "source": [
    "### Test data processing\n",
    "\n",
    "M=100000\n",
    "#data = pd.read_csv('train_2011_2012_2013.csv',delimiter=';',usecols=['DATE','ASS_ASSIGNMENT','CSPL_RECEIVED_CALLS'], nrows=M)\n",
    "data = pd.read_csv('train_2011_2012_2013.csv',delimiter=';',usecols=['DATE','ASS_ASSIGNMENT','CSPL_RECEIVED_CALLS'])"
   ]
  },
  {
   "cell_type": "code",
   "execution_count": 8,
   "metadata": {
    "collapsed": false
   },
   "outputs": [],
   "source": [
    "d = pd.DataFrame(data.groupby(['DATE', 'ASS_ASSIGNMENT'])['CSPL_RECEIVED_CALLS'].sum())\n",
    "d.reset_index(level=0, inplace=True)\n",
    "d.reset_index(level=0, inplace=True)\n",
    "data = d"
   ]
  },
  {
   "cell_type": "code",
   "execution_count": null,
   "metadata": {
    "collapsed": true
   },
   "outputs": [],
   "source": []
  },
  {
   "cell_type": "code",
   "execution_count": 9,
   "metadata": {
    "collapsed": false,
    "scrolled": true
   },
   "outputs": [],
   "source": [
    "import time\n",
    "data['time'] = data['DATE'].apply(lambda x: time.strptime(x, '%Y-%m-%d %H:%M:%S.000'))\n",
    "data['day_week'] = data['time'].apply(lambda x: time.strftime(\"%w\", x))\n",
    "data['month'] = data['time'].apply(lambda x: time.strftime(\"%m\", x))"
   ]
  },
  {
   "cell_type": "code",
   "execution_count": 10,
   "metadata": {
    "collapsed": false
   },
   "outputs": [],
   "source": [
    "#data['ASS_ASSIGNMENT'].value_counts()"
   ]
  },
  {
   "cell_type": "code",
   "execution_count": 11,
   "metadata": {
    "collapsed": false
   },
   "outputs": [
    {
     "data": {
      "text/plain": [
       "<matplotlib.text.Text at 0x1561be00940>"
      ]
     },
     "execution_count": 11,
     "metadata": {},
     "output_type": "execute_result"
    },
    {
     "data": {
      "image/png": "[encoded data removed]",
      "text/plain": [
       "<matplotlib.figure.Figure at 0x1567a005860>"
      ]
     },
     "metadata": {},
     "output_type": "display_data"
    }
   ],
   "source": [
    "%matplotlib inline\n",
    "import matplotlib.pyplot as plt\n",
    "plt.yscale('log')\n",
    "data['CSPL_RECEIVED_CALLS'].hist(bins=30)\n",
    "plt.xlabel('bonjour')"
   ]
  },
  {
   "cell_type": "code",
   "execution_count": 12,
   "metadata": {
    "collapsed": false
   },
   "outputs": [],
   "source": [
    "### New features: dummies for the day of the week, ASS_ASSIGNMENT, months\n",
    "\n",
    "data = pd.concat((data, pd.get_dummies(data['day_week'])),axis=1)\n",
    "data = pd.concat((data, pd.get_dummies(data['ASS_ASSIGNMENT'])),axis=1)\n",
    "data = pd.concat((data, pd.get_dummies(data['month'])),axis=1)"
   ]
  },
  {
   "cell_type": "code",
   "execution_count": 13,
   "metadata": {
    "collapsed": false
   },
   "outputs": [],
   "source": [
    "### New feature: hours since the start of the day\n",
    "data['hours'] = data['time'].apply(lambda x: float(time.strftime(\"%H\", x))+np.sign(float(time.strftime(\"%M\", x)))*0.5)"
   ]
  },
  {
   "cell_type": "code",
   "execution_count": 14,
   "metadata": {
    "collapsed": false
   },
   "outputs": [],
   "source": [
    "### date scince epoch\n",
    "data['time_absolut'] = data['time'].apply(time.mktime)"
   ]
  },
  {
   "cell_type": "code",
   "execution_count": 15,
   "metadata": {
    "collapsed": false
   },
   "outputs": [
    {
     "data": {
      "text/plain": [
       "time.struct_time(tm_year=2013, tm_mon=12, tm_mday=31, tm_hour=22, tm_min=30, tm_sec=0, tm_wday=1, tm_yday=365, tm_isdst=0)"
      ]
     },
     "execution_count": 15,
     "metadata": {},
     "output_type": "execute_result"
    }
   ],
   "source": [
    "time.gmtime(data['time_absolut'].max())"
   ]
  },
  {
   "cell_type": "code",
   "execution_count": 16,
   "metadata": {
    "collapsed": false
   },
   "outputs": [
    {
     "data": {
      "text/plain": [
       "time.struct_time(tm_year=2010, tm_mon=12, tm_mday=31, tm_hour=23, tm_min=0, tm_sec=0, tm_wday=4, tm_yday=365, tm_isdst=0)"
      ]
     },
     "execution_count": 16,
     "metadata": {},
     "output_type": "execute_result"
    }
   ],
   "source": [
    "time.gmtime(data['time_absolut'].min())"
   ]
  },
  {
   "cell_type": "code",
   "execution_count": null,
   "metadata": {
    "collapsed": true
   },
   "outputs": [],
   "source": []
  },
  {
   "cell_type": "code",
   "execution_count": 17,
   "metadata": {
    "collapsed": false
   },
   "outputs": [],
   "source": [
    "### New feature: average number of calls during h hours before the time for the specific category\n",
    "\n",
    "#def get_window1(x, h):\n",
    "#    interval = h*3600\n",
    "#    tmp = data_res[data_res['ASS_ASSIGNMENT'] == x['ASS_ASSIGNMENT']]\n",
    "#    tmp = tmp[tmp['time_absolut'] >= x['time_absolut']-interval] \n",
    "#    tmp = tmp[tmp['time_absolut'] < x['time_absolut']]\n",
    "#    return tmp['CSPL_RECEIVED_CALLS'].mean()\n",
    "\n",
    "#data['mean_calls_24h_past_time'] = data[['time_absolut','ASS_ASSIGNMENT']].apply(lambda p: get_window1(p, 24),axis=1)"
   ]
  },
  {
   "cell_type": "code",
   "execution_count": 18,
   "metadata": {
    "collapsed": false,
    "scrolled": true
   },
   "outputs": [],
   "source": [
    "### New feature: average over all the dates for the specific category and time\n",
    "\n",
    "d1 = pd.DataFrame(data.groupby(['hours', 'ASS_ASSIGNMENT'])['CSPL_RECEIVED_CALLS'].mean())\n",
    "\n",
    "mean_calls_time_ASS_res = d1\n",
    "\n",
    "d1.reset_index(level=0, inplace=True)\n",
    "d1.reset_index(level=0, inplace=True)\n",
    "data = d1.merge(data,on=['hours','ASS_ASSIGNMENT'])\n",
    "data = data.rename(index=str,  columns={'CSPL_RECEIVED_CALLS_x' : 'mean_calls_time_ASS'})\n",
    "data = data.rename(index=str,  columns={'CSPL_RECEIVED_CALLS_y' : 'CSPL_RECEIVED_CALLS'})"
   ]
  },
  {
   "cell_type": "code",
   "execution_count": 19,
   "metadata": {
    "collapsed": false
   },
   "outputs": [],
   "source": [
    "### New feature: average over all the dates for the specific time\n",
    "\n",
    "d2 = pd.DataFrame(data.groupby(['hours'])['CSPL_RECEIVED_CALLS'].mean())\n",
    "\n",
    "mean_calls_time_res = d2\n",
    "\n",
    "d2.reset_index(level=0, inplace=True)\n",
    "d2.reset_index(level=0, inplace=True)\n",
    "data = d2.merge(data,on=['hours'])\n",
    "data = data.rename(index=str,  columns={'CSPL_RECEIVED_CALLS_x' : 'mean_calls_time'})\n",
    "data = data.rename(index=str,  columns={'CSPL_RECEIVED_CALLS_y' : 'CSPL_RECEIVED_CALLS'})"
   ]
  },
  {
   "cell_type": "code",
   "execution_count": 20,
   "metadata": {
    "collapsed": false
   },
   "outputs": [
    {
     "data": {
      "text/plain": [
       "array(['5', '6', '0', '1', '2', '3', '4', 'CMS', 'Crises', 'Domicile',\n",
       "       'Gestion', 'Gestion - Accueil Telephonique', 'Gestion Assurances',\n",
       "       'Gestion Relation Clienteles', 'Gestion Renault', 'Japon',\n",
       "       'Médical', 'Nuit', 'RENAULT', 'Regulation Medicale', 'SAP',\n",
       "       'Services', 'Tech. Axa', 'Tech. Inter', 'Téléphonie', 'Tech. Total',\n",
       "       'Mécanicien', 'CAT', 'Manager', 'Gestion Clients', 'Gestion DZ',\n",
       "       'RTC', 'Prestataires', 'CMS', 'Crises', 'Domicile', 'Gestion',\n",
       "       'Gestion - Accueil Telephonique', 'Gestion Assurances',\n",
       "       'Gestion Relation Clienteles', 'Gestion Renault', 'Japon',\n",
       "       'Médical', 'Nuit', 'RENAULT', 'Regulation Medicale', 'SAP',\n",
       "       'Services', 'Tech. Axa', 'Tech. Inter', 'Téléphonie', 'Tech. Total',\n",
       "       'Mécanicien', 'CAT', 'Manager', 'Gestion Clients', 'Gestion DZ',\n",
       "       'RTC', 'Prestataires', 'hours', 'mean_calls_time_ASS',\n",
       "       'mean_calls_time'], dtype=object)"
      ]
     },
     "execution_count": 20,
     "metadata": {},
     "output_type": "execute_result"
    }
   ],
   "source": [
    "indexes"
   ]
  },
  {
   "cell_type": "code",
   "execution_count": null,
   "metadata": {
    "collapsed": true
   },
   "outputs": [],
   "source": []
  },
  {
   "cell_type": "code",
   "execution_count": 21,
   "metadata": {
    "collapsed": false
   },
   "outputs": [],
   "source": [
    "### Algorithmic part\n",
    "\n",
    "from sklearn.ensemble import RandomForestRegressor as rf\n",
    "from sklearn.cross_validation import train_test_split\n",
    "\n",
    "X = data[indexes]"
   ]
  },
  {
   "cell_type": "code",
   "execution_count": 22,
   "metadata": {
    "collapsed": false
   },
   "outputs": [],
   "source": [
    "Y = data['CSPL_RECEIVED_CALLS']\n",
    "X_train, X_test, y_train, y_test = train_test_split(X,Y)"
   ]
  },
  {
   "cell_type": "code",
   "execution_count": 23,
   "metadata": {
    "collapsed": false
   },
   "outputs": [],
   "source": [
    "model = rf()\n",
    "model.fit(X_train,y_train)\n",
    "pred = model.predict(X_test)"
   ]
  },
  {
   "cell_type": "code",
   "execution_count": null,
   "metadata": {
    "collapsed": true
   },
   "outputs": [],
   "source": []
  },
  {
   "cell_type": "code",
   "execution_count": 24,
   "metadata": {
    "collapsed": false
   },
   "outputs": [],
   "source": [
    "pred = np.round(pred)"
   ]
  },
  {
   "cell_type": "code",
   "execution_count": 25,
   "metadata": {
    "collapsed": false
   },
   "outputs": [
    {
     "data": {
      "text/plain": [
       "0.48650454305507895"
      ]
     },
     "execution_count": 25,
     "metadata": {},
     "output_type": "execute_result"
    }
   ],
   "source": [
    "from sklearn.metrics import r2_score\n",
    "from sklearn.metrics import mean_squared_error\n",
    "r2_score(y_test, pred)\n",
    "#mean_squared_error(y_test, pred)"
   ]
  },
  {
   "cell_type": "code",
   "execution_count": 26,
   "metadata": {
    "collapsed": false
   },
   "outputs": [],
   "source": [
    "#y_test"
   ]
  },
  {
   "cell_type": "code",
   "execution_count": null,
   "metadata": {
    "collapsed": true
   },
   "outputs": [],
   "source": []
  },
  {
   "cell_type": "code",
   "execution_count": 1106,
   "metadata": {
    "collapsed": true
   },
   "outputs": [],
   "source": [
    "#data1 = pd.read_table('submission.txt')"
   ]
  },
  {
   "cell_type": "code",
   "execution_count": 1107,
   "metadata": {
    "collapsed": false
   },
   "outputs": [],
   "source": [
    "#import time\n",
    "#data1['time'] = data1['DATE'].apply(lambda x: time.strptime(x, '%Y-%m-%d %H:%M:%S.000'))\n",
    "#data1['day_week'] = data1['time'].apply(lambda x: time.strftime(\"%w\", x))\n",
    "#data1['month'] = data1['time'].apply(lambda x: time.strftime(\"%m\", x))"
   ]
  },
  {
   "cell_type": "code",
   "execution_count": null,
   "metadata": {
    "collapsed": false
   },
   "outputs": [],
   "source": []
  },
  {
   "cell_type": "code",
   "execution_count": 1108,
   "metadata": {
    "collapsed": true
   },
   "outputs": [],
   "source": [
    "#data1 = pd.concat((data1, pd.get_dummies(data1['day_week'])),axis=1)\n",
    "#data1 = pd.concat((data1, pd.get_dummies(data1['ASS_ASSIGNMENT'])),axis=1)\n",
    "#data1 = pd.concat((data1, pd.get_dummies(data1['month'])),axis=1)"
   ]
  },
  {
   "cell_type": "code",
   "execution_count": null,
   "metadata": {
    "collapsed": false
   },
   "outputs": [],
   "source": []
  },
  {
   "cell_type": "code",
   "execution_count": 1109,
   "metadata": {
    "collapsed": false
   },
   "outputs": [],
   "source": [
    "### New feature: hours since the start of the day\n",
    "\n",
    "#data1['hours'] = data1['time'].apply(lambda x: float(time.strftime(\"%H\", x))+np.sign(float(time.strftime(\"%M\", x)))*0.5)"
   ]
  },
  {
   "cell_type": "code",
   "execution_count": null,
   "metadata": {
    "collapsed": true
   },
   "outputs": [],
   "source": []
  },
  {
   "cell_type": "code",
   "execution_count": 27,
   "metadata": {
    "collapsed": true
   },
   "outputs": [],
   "source": []
  },
  {
   "cell_type": "code",
   "execution_count": null,
   "metadata": {
    "collapsed": false
   },
   "outputs": [],
   "source": []
  },
  {
   "cell_type": "code",
   "execution_count": 28,
   "metadata": {
    "collapsed": false
   },
   "outputs": [],
   "source": [
    "data1 = mean_calls_time_res.merge(data1,on=['hours'])\n",
    "data1['mean_calls_time']=data1['CSPL_RECEIVED_CALLS']"
   ]
  },
  {
   "cell_type": "code",
   "execution_count": 29,
   "metadata": {
    "collapsed": true
   },
   "outputs": [],
   "source": [
    "data1 = mean_calls_time_ASS_res.merge(data1,on=['hours','ASS_ASSIGNMENT'])"
   ]
  },
  {
   "cell_type": "code",
   "execution_count": null,
   "metadata": {
    "collapsed": false
   },
   "outputs": [],
   "source": []
  },
  {
   "cell_type": "code",
   "execution_count": 30,
   "metadata": {
    "collapsed": true
   },
   "outputs": [],
   "source": [
    "data1['mean_calls_time_ASS'] = data1['CSPL_RECEIVED_CALLS_x']"
   ]
  },
  {
   "cell_type": "code",
   "execution_count": 31,
   "metadata": {
    "collapsed": true
   },
   "outputs": [],
   "source": [
    "X = data1[indexes]"
   ]
  },
  {
   "cell_type": "code",
   "execution_count": 32,
   "metadata": {
    "collapsed": false
   },
   "outputs": [],
   "source": [
    "pred = np.round(model.predict(X))"
   ]
  },
  {
   "cell_type": "code",
   "execution_count": 33,
   "metadata": {
    "collapsed": false
   },
   "outputs": [],
   "source": [
    "d = pd.DataFrame(pred, columns=['prediction'])\n",
    "data1['prediction'] = d['prediction']"
   ]
  },
  {
   "cell_type": "code",
   "execution_count": 34,
   "metadata": {
    "collapsed": false
   },
   "outputs": [],
   "source": [
    "data1 = data1.sort_values('time') "
   ]
  },
  {
   "cell_type": "code",
   "execution_count": 35,
   "metadata": {
    "collapsed": false
   },
   "outputs": [],
   "source": [
    "base_filename = 'submission1.txt'\n",
    "data1[['DATE','ASS_ASSIGNMENT','prediction']].to_csv(base_filename, sep=' ', index=False)"
   ]
  },
  {
   "cell_type": "code",
   "execution_count": null,
   "metadata": {
    "collapsed": true
   },
   "outputs": [],
   "source": []
  }
 ],
 "metadata": {
  "anaconda-cloud": {},
  "kernelspec": {
   "display_name": "Python [Root]",
   "language": "python",
   "name": "Python [Root]"
  },
  "language_info": {
   "codemirror_mode": {
    "name": "ipython",
    "version": 3
   },
   "file_extension": ".py",
   "mimetype": "text/x-python",
   "name": "python",
   "nbconvert_exporter": "python",
   "pygments_lexer": "ipython3",
   "version": "3.5.2"
  }
 },
 "nbformat": 4,
 "nbformat_minor": 0
}
