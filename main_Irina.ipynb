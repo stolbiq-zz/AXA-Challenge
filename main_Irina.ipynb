{
 "cells": [
  {
   "cell_type": "code",
   "execution_count": 207,
   "metadata": {
    "collapsed": false
   },
   "outputs": [],
   "source": [
    "import pandas as pds\n",
    "import numpy as np\n",
    "N=100000\n",
    "assig = pds.read_csv('train_2011_2012_2013.csv',delimiter=';',usecols=['ASS_ASSIGNMENT'], nrows=N).values.tolist()\n",
    "date = pds.read_csv('train_2011_2012_2013.csv',delimiter=';',usecols=['DATE'], nrows=N).values.tolist()\n",
    "calls = pds.read_csv('train_2011_2012_2013.csv',delimiter=';',usecols=['CSPL_RECEIVED_CALLS'], nrows=N).values.tolist()"
   ]
  },
  {
   "cell_type": "code",
   "execution_count": 208,
   "metadata": {
    "collapsed": false
   },
   "outputs": [],
   "source": [
    "def uniq(input):\n",
    "    output = []\n",
    "    for x in input:\n",
    "        if x not in output:\n",
    "            output.append(x)\n",
    "    return output"
   ]
  },
  {
   "cell_type": "code",
   "execution_count": 209,
   "metadata": {
    "collapsed": false
   },
   "outputs": [
    {
     "data": {
      "text/plain": [
       "[['Téléphonie'],\n",
       " ['RTC'],\n",
       " ['Gestion Renault'],\n",
       " ['Nuit'],\n",
       " ['Gestion - Accueil Telephonique'],\n",
       " ['Regulation Medicale'],\n",
       " ['Services'],\n",
       " ['Tech. Total'],\n",
       " ['Gestion Relation Clienteles'],\n",
       " ['Crises'],\n",
       " ['Japon'],\n",
       " ['Médical'],\n",
       " ['Gestion Assurances'],\n",
       " ['Domicile'],\n",
       " ['Gestion'],\n",
       " ['SAP'],\n",
       " ['RENAULT'],\n",
       " ['Gestion Amex'],\n",
       " ['Tech. Inter'],\n",
       " ['Gestion Clients'],\n",
       " ['Manager'],\n",
       " ['Tech. Axa'],\n",
       " ['CAT'],\n",
       " ['Gestion DZ'],\n",
       " ['Mécanicien'],\n",
       " ['CMS'],\n",
       " ['Prestataires'],\n",
       " ['Evenements']]"
      ]
     },
     "execution_count": 209,
     "metadata": {},
     "output_type": "execute_result"
    }
   ],
   "source": [
    "uniq(assig)"
   ]
  },
  {
   "cell_type": "code",
   "execution_count": 210,
   "metadata": {
    "collapsed": false
   },
   "outputs": [],
   "source": [
    "calls_ar = np.reshape(np.asarray(calls), N)\n",
    "date_ar = np.reshape(np.asarray(date), N)"
   ]
  },
  {
   "cell_type": "code",
   "execution_count": 211,
   "metadata": {
    "collapsed": false
   },
   "outputs": [],
   "source": [
    "feature = 'Téléphonie'\n",
    "position = []\n",
    "for i, item in enumerate(assig):\n",
    "    if item[0] == feature:\n",
    "        position.append(i)"
   ]
  },
  {
   "cell_type": "code",
   "execution_count": 212,
   "metadata": {
    "collapsed": false
   },
   "outputs": [],
   "source": [
    "calls_f = calls_ar[position]\n",
    "date_f = date_ar[position]"
   ]
  },
  {
   "cell_type": "code",
   "execution_count": 213,
   "metadata": {
    "collapsed": false
   },
   "outputs": [],
   "source": [
    "date_fu = np.asarray(uniq(date_f))\n",
    "sz_new = date_fu.shape[0]\n",
    "calls_fu = np.zeros(sz_new)\n",
    "k=0\n",
    "for i in range(0, sz_new):\n",
    "    date = date_fu[i]\n",
    "    while(date_f[k] == date):\n",
    "        calls_fu[i]+=calls_f[k]\n",
    "        k+=1"
   ]
  },
  {
   "cell_type": "code",
   "execution_count": 214,
   "metadata": {
    "collapsed": false
   },
   "outputs": [
    {
     "name": "stdout",
     "output_type": "stream",
     "text": [
      "1543\n"
     ]
    }
   ],
   "source": [
    "sz = calls_fu.shape[0]\n",
    "day_fu = np.zeros(sz)\n",
    "time_fu = np.zeros(sz)\n",
    "print(sz)"
   ]
  },
  {
   "cell_type": "code",
   "execution_count": 215,
   "metadata": {
    "collapsed": false,
    "scrolled": true
   },
   "outputs": [],
   "source": [
    "import datetime as dt\n",
    "import re\n",
    "for i in range(0,sz):\n",
    "    s = date_fu[i]\n",
    "    s = re.findall('\\d+', s)\n",
    "    day_fu[i] = dt.datetime(int(s[0]), int(s[1]), int(s[2])).weekday()\n",
    "    time_fu[i] = int(s[3])+0.5*np.sign(int(s[4]))"
   ]
  },
  {
   "cell_type": "code",
   "execution_count": 216,
   "metadata": {
    "collapsed": false
   },
   "outputs": [
    {
     "data": {
      "text/plain": [
       "array([ 1.,  0.,  0., ...,  0.,  0.,  0.])"
      ]
     },
     "execution_count": 216,
     "metadata": {},
     "output_type": "execute_result"
    }
   ],
   "source": [
    "calls_fu"
   ]
  },
  {
   "cell_type": "code",
   "execution_count": 217,
   "metadata": {
    "collapsed": false
   },
   "outputs": [
    {
     "data": {
      "text/plain": [
       "array([ 6.,  0.,  5., ...,  6.,  6.,  0.])"
      ]
     },
     "execution_count": 217,
     "metadata": {},
     "output_type": "execute_result"
    }
   ],
   "source": [
    "day_fu"
   ]
  },
  {
   "cell_type": "code",
   "execution_count": 218,
   "metadata": {
    "collapsed": false
   },
   "outputs": [
    {
     "data": {
      "text/plain": [
       "array([ 1.5,  1.5,  0. , ...,  7. ,  6.5,  6.5])"
      ]
     },
     "execution_count": 218,
     "metadata": {},
     "output_type": "execute_result"
    }
   ],
   "source": [
    "time_fu"
   ]
  },
  {
   "cell_type": "code",
   "execution_count": null,
   "metadata": {
    "collapsed": true
   },
   "outputs": [],
   "source": []
  }
 ],
 "metadata": {
  "kernelspec": {
   "display_name": "Python [Root]",
   "language": "python",
   "name": "Python [Root]"
  },
  "language_info": {
   "codemirror_mode": {
    "name": "ipython",
    "version": 3
   },
   "file_extension": ".py",
   "mimetype": "text/x-python",
   "name": "python",
   "nbconvert_exporter": "python",
   "pygments_lexer": "ipython3",
   "version": "3.5.2"
  }
 },
 "nbformat": 4,
 "nbformat_minor": 0
}
