{
 "cells": [
  {
   "cell_type": "code",
   "execution_count": 96,
   "metadata": {
    "collapsed": false
   },
   "outputs": [],
   "source": [
    "import pandas as pd\n",
    "import numpy as np\n",
    "M=10000\n",
    "data = pd.read_csv('train_2011_2012_2013.csv',delimiter=';',usecols=['DATE','ASS_ASSIGNMENT','CSPL_RECEIVED_CALLS'], nrows=M)"
   ]
  },
  {
   "cell_type": "code",
   "execution_count": 97,
   "metadata": {
    "collapsed": false
   },
   "outputs": [],
   "source": [
    "import time\n",
    "data['day_week'] = data['DATE'].apply(lambda x: time.strftime(\"%w\", time.strptime(x, '%Y-%m-%d %H:%M:%S.000')))\n",
    "data['month'] = data['DATE'].apply(lambda x: time.strftime(\"%m\", time.strptime(x, '%Y-%m-%d %H:%M:%S.000')))"
   ]
  },
  {
   "cell_type": "code",
   "execution_count": 98,
   "metadata": {
    "collapsed": false
   },
   "outputs": [],
   "source": [
    "data = pd.concat((data, pd.get_dummies(data['day_week'])),axis=1)"
   ]
  },
  {
   "cell_type": "code",
   "execution_count": 99,
   "metadata": {
    "collapsed": false
   },
   "outputs": [],
   "source": [
    "from sklearn.ensemble import RandomForestRegressor as rf\n",
    "from sklearn.cross_validation import train_test_split\n",
    "\n",
    "X = data[['0','1','6']]\n",
    "Y = data['CSPL_RECEIVED_CALLS']\n",
    "X_train, X_test, y_train, y_test = train_test_split(X,Y)"
   ]
  },
  {
   "cell_type": "code",
   "execution_count": 100,
   "metadata": {
    "collapsed": false
   },
   "outputs": [
    {
     "data": {
      "text/plain": [
       "8769    0\n",
       "4257    0\n",
       "9751    0\n",
       "3847    0\n",
       "1193    0\n",
       "875     0\n",
       "8730    0\n",
       "2309    0\n",
       "9854    0\n",
       "9655    0\n",
       "1690    0\n",
       "240     0\n",
       "5591    0\n",
       "1847    0\n",
       "8550    0\n",
       "1756    0\n",
       "1195    0\n",
       "2057    0\n",
       "3585    0\n",
       "8561    0\n",
       "4943    0\n",
       "9015    0\n",
       "1133    0\n",
       "8173    0\n",
       "8940    0\n",
       "7693    0\n",
       "2347    0\n",
       "8027    0\n",
       "4980    0\n",
       "555     0\n",
       "       ..\n",
       "2894    0\n",
       "9901    0\n",
       "997     0\n",
       "7298    0\n",
       "7469    0\n",
       "9933    0\n",
       "5873    0\n",
       "9108    0\n",
       "3344    0\n",
       "4896    0\n",
       "8699    2\n",
       "5310    0\n",
       "244     0\n",
       "7198    0\n",
       "8597    0\n",
       "6259    0\n",
       "3140    0\n",
       "9911    0\n",
       "1205    0\n",
       "2910    0\n",
       "4457    0\n",
       "4529    0\n",
       "1209    0\n",
       "4000    0\n",
       "7157    0\n",
       "6503    4\n",
       "1435    0\n",
       "9885    0\n",
       "2805    3\n",
       "8026    0\n",
       "Name: CSPL_RECEIVED_CALLS, dtype: int64"
      ]
     },
     "execution_count": 100,
     "metadata": {},
     "output_type": "execute_result"
    }
   ],
   "source": [
    "y_test"
   ]
  },
  {
   "cell_type": "code",
   "execution_count": 101,
   "metadata": {
    "collapsed": false
   },
   "outputs": [],
   "source": [
    "model = rf()\n",
    "model.fit(X_train,y_train)\n",
    "pred = model.predict(X_test)"
   ]
  },
  {
   "cell_type": "code",
   "execution_count": 102,
   "metadata": {
    "collapsed": false
   },
   "outputs": [],
   "source": [
    "pred = np.round(pred)"
   ]
  },
  {
   "cell_type": "code",
   "execution_count": 103,
   "metadata": {
    "collapsed": false
   },
   "outputs": [
    {
     "data": {
      "text/plain": [
       "-0.025363777534939791"
      ]
     },
     "execution_count": 103,
     "metadata": {},
     "output_type": "execute_result"
    }
   ],
   "source": [
    "from sklearn.metrics import r2_score\n",
    "r2_score(y_test, pred)"
   ]
  },
  {
   "cell_type": "code",
   "execution_count": null,
   "metadata": {
    "collapsed": false
   },
   "outputs": [],
   "source": []
  },
  {
   "cell_type": "code",
   "execution_count": null,
   "metadata": {
    "collapsed": true
   },
   "outputs": [],
   "source": []
  }
 ],
 "metadata": {
  "anaconda-cloud": {},
  "kernelspec": {
   "display_name": "Python [Root]",
   "language": "python",
   "name": "Python [Root]"
  },
  "language_info": {
   "codemirror_mode": {
    "name": "ipython",
    "version": 3
   },
   "file_extension": ".py",
   "mimetype": "text/x-python",
   "name": "python",
   "nbconvert_exporter": "python",
   "pygments_lexer": "ipython3",
   "version": "3.5.2"
  }
 },
 "nbformat": 4,
 "nbformat_minor": 0
}
