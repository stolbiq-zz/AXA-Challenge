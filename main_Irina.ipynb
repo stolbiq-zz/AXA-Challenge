{
 "cells": [
  {
   "cell_type": "code",
   "execution_count": 76,
   "metadata": {
    "collapsed": false
   },
   "outputs": [],
   "source": [
    "### Decide about the features to take according to the submission file\n",
    "\n",
    "import pandas as pd\n",
    "import numpy as np\n",
    "data1 = pd.read_table('submission.txt')"
   ]
  },
  {
   "cell_type": "code",
   "execution_count": 77,
   "metadata": {
    "collapsed": false
   },
   "outputs": [
    {
     "data": {
      "text/plain": [
       "82909"
      ]
     },
     "execution_count": 77,
     "metadata": {},
     "output_type": "execute_result"
    }
   ],
   "source": [
    "len(data1)"
   ]
  },
  {
   "cell_type": "code",
   "execution_count": null,
   "metadata": {
    "collapsed": false
   },
   "outputs": [],
   "source": []
  },
  {
   "cell_type": "code",
   "execution_count": 78,
   "metadata": {
    "collapsed": true
   },
   "outputs": [],
   "source": [
    "import time\n",
    "data1['time'] = data1['DATE'].apply(lambda x: time.strptime(x, '%Y-%m-%d %H:%M:%S.000'))\n",
    "data1['day_week'] = data1['time'].apply(lambda x: time.strftime(\"%w\", x))\n",
    "data1['month'] = data1['time'].apply(lambda x: time.strftime(\"%m\", x))"
   ]
  },
  {
   "cell_type": "code",
   "execution_count": null,
   "metadata": {
    "collapsed": true
   },
   "outputs": [],
   "source": []
  },
  {
   "cell_type": "code",
   "execution_count": 79,
   "metadata": {
    "collapsed": true
   },
   "outputs": [],
   "source": [
    "### New features: dummies for the day of the week, ASS_ASSIGNMENT, months\n",
    "\n",
    "data1 = pd.concat((data1, pd.get_dummies(data1['day_week'])),axis=1)\n",
    "data1 = pd.concat((data1, pd.get_dummies(data1['ASS_ASSIGNMENT'])),axis=1)\n",
    "data1 = pd.concat((data1, pd.get_dummies(data1['month'])),axis=1)\n"
   ]
  },
  {
   "cell_type": "code",
   "execution_count": 80,
   "metadata": {
    "collapsed": true
   },
   "outputs": [],
   "source": [
    "### New feature: hours since the start of the day\n",
    "\n",
    "data1['time_absolut'] = data1['time'].apply(time.mktime) ### date scince epoch\n",
    "data1['hours'] = data1['time'].apply(lambda x: float(time.strftime(\"%H\", x))+np.sign(float(time.strftime(\"%M\", x)))*0.5)"
   ]
  },
  {
   "cell_type": "code",
   "execution_count": 81,
   "metadata": {
    "collapsed": true
   },
   "outputs": [],
   "source": [
    "data1['year_week'] = data1['time'].apply(lambda x: time.strftime(\"%Y+%U\", x))"
   ]
  },
  {
   "cell_type": "code",
   "execution_count": null,
   "metadata": {
    "collapsed": true
   },
   "outputs": [],
   "source": []
  },
  {
   "cell_type": "code",
   "execution_count": 82,
   "metadata": {
    "collapsed": false
   },
   "outputs": [
    {
     "data": {
      "text/plain": [
       "time.struct_time(tm_year=2013, tm_mon=12, tm_mday=28, tm_hour=22, tm_min=30, tm_sec=0, tm_wday=5, tm_yday=362, tm_isdst=0)"
      ]
     },
     "execution_count": 82,
     "metadata": {},
     "output_type": "execute_result"
    }
   ],
   "source": [
    "time.gmtime(data1['time_absolut'].max())"
   ]
  },
  {
   "cell_type": "code",
   "execution_count": 83,
   "metadata": {
    "collapsed": false
   },
   "outputs": [
    {
     "data": {
      "text/plain": [
       "time.struct_time(tm_year=2012, tm_mon=12, tm_mday=27, tm_hour=23, tm_min=0, tm_sec=0, tm_wday=3, tm_yday=362, tm_isdst=0)"
      ]
     },
     "execution_count": 83,
     "metadata": {},
     "output_type": "execute_result"
    }
   ],
   "source": [
    "time.gmtime(data1['time_absolut'].min())"
   ]
  },
  {
   "cell_type": "code",
   "execution_count": 84,
   "metadata": {
    "collapsed": false
   },
   "outputs": [],
   "source": [
    "indexes = np.concatenate((data1.day_week.unique(), data1.ASS_ASSIGNMENT.unique()))\n",
    "indexes = np.concatenate((indexes, data1.month.unique()))\n",
    "indexes = np.concatenate((indexes, data1.ASS_ASSIGNMENT.unique()))\n",
    "indexes = np.concatenate((indexes, ['hours']))\n",
    "indexes = np.concatenate((indexes, ['time_absolut']))\n",
    "#indexes = np.concatenate((indexes, ['mean_week_ASS']))\n",
    "indexes = np.concatenate((indexes, ['mean_calls_time_ASS','mean_calls_time']))\n"
   ]
  },
  {
   "cell_type": "code",
   "execution_count": 85,
   "metadata": {
    "collapsed": false
   },
   "outputs": [
    {
     "data": {
      "text/plain": [
       "82909"
      ]
     },
     "execution_count": 85,
     "metadata": {},
     "output_type": "execute_result"
    }
   ],
   "source": [
    "len(data1)"
   ]
  },
  {
   "cell_type": "code",
   "execution_count": 86,
   "metadata": {
    "collapsed": false
   },
   "outputs": [
    {
     "data": {
      "text/plain": [
       "array(['5', '6', '0', '1', '2', '3', '4', 'CMS', 'Crises', 'Domicile',\n",
       "       'Gestion', 'Gestion - Accueil Telephonique', 'Gestion Assurances',\n",
       "       'Gestion Relation Clienteles', 'Gestion Renault', 'Japon',\n",
       "       'Médical', 'Nuit', 'RENAULT', 'Regulation Medicale', 'SAP',\n",
       "       'Services', 'Tech. Axa', 'Tech. Inter', 'Téléphonie', 'Tech. Total',\n",
       "       'Mécanicien', 'CAT', 'Manager', 'Gestion Clients', 'Gestion DZ',\n",
       "       'RTC', 'Prestataires', '12', '01', '02', '03', '04', '05', '06',\n",
       "       '07', '08', '09', '10', '11', 'CMS', 'Crises', 'Domicile',\n",
       "       'Gestion', 'Gestion - Accueil Telephonique', 'Gestion Assurances',\n",
       "       'Gestion Relation Clienteles', 'Gestion Renault', 'Japon',\n",
       "       'Médical', 'Nuit', 'RENAULT', 'Regulation Medicale', 'SAP',\n",
       "       'Services', 'Tech. Axa', 'Tech. Inter', 'Téléphonie', 'Tech. Total',\n",
       "       'Mécanicien', 'CAT', 'Manager', 'Gestion Clients', 'Gestion DZ',\n",
       "       'RTC', 'Prestataires', 'hours', 'time_absolut',\n",
       "       'mean_calls_time_ASS', 'mean_calls_time'], dtype=object)"
      ]
     },
     "execution_count": 86,
     "metadata": {},
     "output_type": "execute_result"
    }
   ],
   "source": [
    "indexes"
   ]
  },
  {
   "cell_type": "code",
   "execution_count": 87,
   "metadata": {
    "collapsed": false
   },
   "outputs": [],
   "source": [
    "### Test data processing\n",
    "\n",
    "M=100000\n",
    "#data = pd.read_csv('train_2011_2012_2013.csv',delimiter=';',usecols=['DATE','ASS_ASSIGNMENT','CSPL_RECEIVED_CALLS'], nrows=M)\n",
    "data = pd.read_csv('train_2011_2012_2013.csv',delimiter=';',usecols=['DATE','ASS_ASSIGNMENT','CSPL_RECEIVED_CALLS'], na_values=-1)"
   ]
  },
  {
   "cell_type": "code",
   "execution_count": null,
   "metadata": {
    "collapsed": false
   },
   "outputs": [],
   "source": []
  },
  {
   "cell_type": "code",
   "execution_count": 88,
   "metadata": {
    "collapsed": false
   },
   "outputs": [],
   "source": [
    "d = pd.DataFrame(data.groupby(['DATE', 'ASS_ASSIGNMENT'])['CSPL_RECEIVED_CALLS'].sum())\n",
    "d.reset_index(level=0, inplace=True)\n",
    "d.reset_index(level=0, inplace=True)\n",
    "data = d"
   ]
  },
  {
   "cell_type": "code",
   "execution_count": 89,
   "metadata": {
    "collapsed": false
   },
   "outputs": [],
   "source": [
    "#data = data[data['CSPL_RECEIVED_CALLS']>0]"
   ]
  },
  {
   "cell_type": "code",
   "execution_count": null,
   "metadata": {
    "collapsed": false
   },
   "outputs": [],
   "source": []
  },
  {
   "cell_type": "code",
   "execution_count": 90,
   "metadata": {
    "collapsed": false,
    "scrolled": true
   },
   "outputs": [],
   "source": [
    "data['time'] = data['DATE'].apply(lambda x: time.strptime(x, '%Y-%m-%d %H:%M:%S.000'))\n",
    "data['day_week'] = data['time'].apply(lambda x: time.strftime(\"%w\", x))\n",
    "data['month'] = data['time'].apply(lambda x: time.strftime(\"%m\", x))"
   ]
  },
  {
   "cell_type": "code",
   "execution_count": 16,
   "metadata": {
    "collapsed": false
   },
   "outputs": [],
   "source": [
    "#data['ASS_ASSIGNMENT'].value_counts()"
   ]
  },
  {
   "cell_type": "code",
   "execution_count": 17,
   "metadata": {
    "collapsed": false
   },
   "outputs": [
    {
     "data": {
      "text/plain": [
       "<matplotlib.text.Text at 0x1150904c5c0>"
      ]
     },
     "execution_count": 17,
     "metadata": {},
     "output_type": "execute_result"
    },
    {
     "data": {
      "image/png": "[encoded data removed]",
      "text/plain": [
       "<matplotlib.figure.Figure at 0x11508ff91d0>"
      ]
     },
     "metadata": {},
     "output_type": "display_data"
    }
   ],
   "source": [
    "%matplotlib inline\n",
    "import matplotlib.pyplot as plt\n",
    "plt.yscale('log')\n",
    "data['CSPL_RECEIVED_CALLS'].hist(bins=30)\n",
    "plt.xlabel('bonjour')"
   ]
  },
  {
   "cell_type": "code",
   "execution_count": 91,
   "metadata": {
    "collapsed": false
   },
   "outputs": [],
   "source": [
    "### New features: dummies for the day of the week, ASS_ASSIGNMENT, months\n",
    "\n",
    "data = pd.concat((data, pd.get_dummies(data['day_week'])),axis=1)\n",
    "data = pd.concat((data, pd.get_dummies(data['ASS_ASSIGNMENT'])),axis=1)\n",
    "data = pd.concat((data, pd.get_dummies(data['month'])),axis=1)"
   ]
  },
  {
   "cell_type": "code",
   "execution_count": 92,
   "metadata": {
    "collapsed": false
   },
   "outputs": [],
   "source": [
    "### New feature: hours since the start of the day\n",
    "data['hours'] = data['time'].apply(lambda x: float(time.strftime(\"%H\", x))+np.sign(float(time.strftime(\"%M\", x)))*0.5)"
   ]
  },
  {
   "cell_type": "code",
   "execution_count": 93,
   "metadata": {
    "collapsed": false
   },
   "outputs": [],
   "source": [
    "### date scince epoch\n",
    "data['time_absolut'] = data['time'].apply(time.mktime)"
   ]
  },
  {
   "cell_type": "code",
   "execution_count": 94,
   "metadata": {
    "collapsed": true
   },
   "outputs": [],
   "source": [
    "data['year_week'] = data['time'].apply(lambda x: time.strftime(\"%Y+%U\", x))"
   ]
  },
  {
   "cell_type": "code",
   "execution_count": null,
   "metadata": {
    "collapsed": false
   },
   "outputs": [],
   "source": []
  },
  {
   "cell_type": "code",
   "execution_count": 22,
   "metadata": {
    "collapsed": false
   },
   "outputs": [
    {
     "data": {
      "text/plain": [
       "time.struct_time(tm_year=2013, tm_mon=12, tm_mday=31, tm_hour=22, tm_min=30, tm_sec=0, tm_wday=1, tm_yday=365, tm_isdst=0)"
      ]
     },
     "execution_count": 22,
     "metadata": {},
     "output_type": "execute_result"
    }
   ],
   "source": [
    "time.gmtime(data['time_absolut'].max())"
   ]
  },
  {
   "cell_type": "code",
   "execution_count": 23,
   "metadata": {
    "collapsed": false
   },
   "outputs": [
    {
     "data": {
      "text/plain": [
       "time.struct_time(tm_year=2010, tm_mon=12, tm_mday=31, tm_hour=23, tm_min=0, tm_sec=0, tm_wday=4, tm_yday=365, tm_isdst=0)"
      ]
     },
     "execution_count": 23,
     "metadata": {},
     "output_type": "execute_result"
    }
   ],
   "source": [
    "time.gmtime(data['time_absolut'].min())"
   ]
  },
  {
   "cell_type": "code",
   "execution_count": null,
   "metadata": {
    "collapsed": false
   },
   "outputs": [],
   "source": []
  },
  {
   "cell_type": "code",
   "execution_count": 24,
   "metadata": {
    "collapsed": false
   },
   "outputs": [],
   "source": [
    "### New feature: average over the concrete week for the specific 'ASS_ASSIGNMENT'\n",
    "\n",
    "d3 = pd.DataFrame(data.groupby(['year_week', 'ASS_ASSIGNMENT'])['CSPL_RECEIVED_CALLS'].mean())\n",
    "\n",
    "mean_week_ASS_res = d3\n",
    "\n",
    "d3.reset_index(level=0, inplace=True)\n",
    "d3.reset_index(level=0, inplace=True)\n",
    "data = d3.merge(data,on=['year_week','ASS_ASSIGNMENT'])\n",
    "data = data.rename(index=str,  columns={'CSPL_RECEIVED_CALLS_x' : 'mean_week_ASS'})\n",
    "data = data.rename(index=str,  columns={'CSPL_RECEIVED_CALLS_y' : 'CSPL_RECEIVED_CALLS'})"
   ]
  },
  {
   "cell_type": "code",
   "execution_count": null,
   "metadata": {
    "collapsed": false
   },
   "outputs": [],
   "source": []
  },
  {
   "cell_type": "code",
   "execution_count": 95,
   "metadata": {
    "collapsed": false,
    "scrolled": true
   },
   "outputs": [],
   "source": [
    "### New feature: average over all the dates for the specific category and time\n",
    "\n",
    "d1 = pd.DataFrame(data.groupby(['hours', 'ASS_ASSIGNMENT'])['CSPL_RECEIVED_CALLS'].mean())\n",
    "\n",
    "mean_calls_time_ASS_res = d1\n",
    "\n",
    "d1.reset_index(level=0, inplace=True)\n",
    "d1.reset_index(level=0, inplace=True)\n",
    "data = d1.merge(data,on=['hours','ASS_ASSIGNMENT'])\n",
    "data = data.rename(index=str,  columns={'CSPL_RECEIVED_CALLS_x' : 'mean_calls_time_ASS'})\n",
    "data = data.rename(index=str,  columns={'CSPL_RECEIVED_CALLS_y' : 'CSPL_RECEIVED_CALLS'})"
   ]
  },
  {
   "cell_type": "code",
   "execution_count": 96,
   "metadata": {
    "collapsed": false
   },
   "outputs": [],
   "source": [
    "### New feature: average over all the dates for the specific time\n",
    "\n",
    "d2 = pd.DataFrame(data.groupby(['hours'])['CSPL_RECEIVED_CALLS'].mean())\n",
    "\n",
    "mean_calls_time_res = d2\n",
    "\n",
    "d2.reset_index(level=0, inplace=True)\n",
    "d2.reset_index(level=0, inplace=True)\n",
    "data = d2.merge(data,on=['hours'])\n",
    "data = data.rename(index=str,  columns={'CSPL_RECEIVED_CALLS_x' : 'mean_calls_time'})\n",
    "data = data.rename(index=str,  columns={'CSPL_RECEIVED_CALLS_y' : 'CSPL_RECEIVED_CALLS'})"
   ]
  },
  {
   "cell_type": "code",
   "execution_count": 100,
   "metadata": {
    "collapsed": true
   },
   "outputs": [],
   "source": [
    "### New feature: average over all 'ASS_ASSIGNMENT' for the specific time\n",
    "\n",
    "d5 = pd.DataFrame(data.groupby(['ASS_ASSIGNMENT'])['CSPL_RECEIVED_CALLS'].mean())\n",
    "\n",
    "mean_calls_ASS = d5\n",
    "\n",
    "d5.reset_index(level=0, inplace=True)\n",
    "d5.reset_index(level=0, inplace=True)\n",
    "data = d5.merge(data,on=['ASS_ASSIGNMENT'])\n",
    "data = data.rename(index=str,  columns={'CSPL_RECEIVED_CALLS_x' : 'mean_calls_ASS'})\n",
    "data = data.rename(index=str,  columns={'CSPL_RECEIVED_CALLS_y' : 'CSPL_RECEIVED_CALLS'})"
   ]
  },
  {
   "cell_type": "code",
   "execution_count": 101,
   "metadata": {
    "collapsed": false
   },
   "outputs": [
    {
     "data": {
      "text/plain": [
       "0          51.027950\n",
       "1          51.027950\n",
       "2          51.027950\n",
       "3          51.027950\n",
       "4          51.027950\n",
       "5          51.027950\n",
       "6          51.027950\n",
       "7          51.027950\n",
       "8          51.027950\n",
       "9          51.027950\n",
       "10         51.027950\n",
       "11         51.027950\n",
       "12         51.027950\n",
       "13         51.027950\n",
       "14         51.027950\n",
       "15         51.027950\n",
       "16         51.027950\n",
       "17         51.027950\n",
       "18         51.027950\n",
       "19         51.027950\n",
       "20         51.027950\n",
       "21         51.027950\n",
       "22         51.027950\n",
       "23         51.027950\n",
       "24         51.027950\n",
       "25         51.027950\n",
       "26         51.027950\n",
       "27         51.027950\n",
       "28         51.027950\n",
       "29         51.027950\n",
       "             ...    \n",
       "1030799    71.389055\n",
       "1030800    71.389055\n",
       "1030801    71.389055\n",
       "1030802    71.389055\n",
       "1030803    71.389055\n",
       "1030804    71.389055\n",
       "1030805    71.389055\n",
       "1030806    71.389055\n",
       "1030807    71.389055\n",
       "1030808    71.389055\n",
       "1030809    71.389055\n",
       "1030810    71.389055\n",
       "1030811    71.389055\n",
       "1030812    71.389055\n",
       "1030813    71.389055\n",
       "1030814    71.389055\n",
       "1030815    71.389055\n",
       "1030816    71.389055\n",
       "1030817    71.389055\n",
       "1030818    71.389055\n",
       "1030819    71.389055\n",
       "1030820    71.389055\n",
       "1030821    71.389055\n",
       "1030822    71.389055\n",
       "1030823    71.389055\n",
       "1030824    71.389055\n",
       "1030825    71.389055\n",
       "1030826    71.389055\n",
       "1030827    71.389055\n",
       "1030828    71.389055\n",
       "Name: mean_calls_ASS, dtype: float64"
      ]
     },
     "execution_count": 101,
     "metadata": {},
     "output_type": "execute_result"
    }
   ],
   "source": [
    "data['mean_calls_ASS']"
   ]
  },
  {
   "cell_type": "code",
   "execution_count": 102,
   "metadata": {
    "collapsed": false
   },
   "outputs": [
    {
     "data": {
      "text/plain": [
       "array(['5', '6', '0', '1', '2', '3', '4', 'CMS', 'Crises', 'Domicile',\n",
       "       'Gestion', 'Gestion - Accueil Telephonique', 'Gestion Assurances',\n",
       "       'Gestion Relation Clienteles', 'Gestion Renault', 'Japon',\n",
       "       'Médical', 'Nuit', 'RENAULT', 'Regulation Medicale', 'SAP',\n",
       "       'Services', 'Tech. Axa', 'Tech. Inter', 'Téléphonie', 'Tech. Total',\n",
       "       'Mécanicien', 'CAT', 'Manager', 'Gestion Clients', 'Gestion DZ',\n",
       "       'RTC', 'Prestataires', '12', '01', '02', '03', '04', '05', '06',\n",
       "       '07', '08', '09', '10', '11', 'CMS', 'Crises', 'Domicile',\n",
       "       'Gestion', 'Gestion - Accueil Telephonique', 'Gestion Assurances',\n",
       "       'Gestion Relation Clienteles', 'Gestion Renault', 'Japon',\n",
       "       'Médical', 'Nuit', 'RENAULT', 'Regulation Medicale', 'SAP',\n",
       "       'Services', 'Tech. Axa', 'Tech. Inter', 'Téléphonie', 'Tech. Total',\n",
       "       'Mécanicien', 'CAT', 'Manager', 'Gestion Clients', 'Gestion DZ',\n",
       "       'RTC', 'Prestataires', 'hours', 'time_absolut',\n",
       "       'mean_calls_time_ASS', 'mean_calls_time', 'mean_calls_ASS'], dtype=object)"
      ]
     },
     "execution_count": 102,
     "metadata": {},
     "output_type": "execute_result"
    }
   ],
   "source": [
    "indexes"
   ]
  },
  {
   "cell_type": "code",
   "execution_count": 103,
   "metadata": {
    "collapsed": true
   },
   "outputs": [],
   "source": [
    "indexes = np.concatenate((indexes, ['mean_calls_ASS']))"
   ]
  },
  {
   "cell_type": "code",
   "execution_count": 104,
   "metadata": {
    "collapsed": false
   },
   "outputs": [],
   "source": [
    "### Algorithmic part\n",
    "\n",
    "from sklearn.ensemble import RandomForestRegressor as rf\n",
    "from sklearn.cross_validation import train_test_split\n",
    "\n",
    "X = data[indexes]"
   ]
  },
  {
   "cell_type": "code",
   "execution_count": 105,
   "metadata": {
    "collapsed": false
   },
   "outputs": [],
   "source": [
    "Y = data['CSPL_RECEIVED_CALLS']\n",
    "X_train, X_test, y_train, y_test = train_test_split(X,Y)"
   ]
  },
  {
   "cell_type": "code",
   "execution_count": 106,
   "metadata": {
    "collapsed": false
   },
   "outputs": [],
   "source": [
    "model = rf()\n",
    "model.fit(X_train,y_train)\n",
    "pred = model.predict(X_test)"
   ]
  },
  {
   "cell_type": "code",
   "execution_count": null,
   "metadata": {
    "collapsed": true
   },
   "outputs": [],
   "source": []
  },
  {
   "cell_type": "code",
   "execution_count": 107,
   "metadata": {
    "collapsed": false
   },
   "outputs": [],
   "source": [
    "pred = np.round(pred)"
   ]
  },
  {
   "cell_type": "code",
   "execution_count": 116,
   "metadata": {
    "collapsed": false
   },
   "outputs": [
    {
     "ename": "ValueError",
     "evalue": "Found arrays with inconsistent numbers of samples: [ 82909 257708]",
     "output_type": "error",
     "traceback": [
      "\u001b[1;31m---------------------------------------------------------------------------\u001b[0m",
      "\u001b[1;31mValueError\u001b[0m                                Traceback (most recent call last)",
      "\u001b[1;32m<ipython-input-116-be745a6d3d18>\u001b[0m in \u001b[0;36m<module>\u001b[1;34m()\u001b[0m\n\u001b[0;32m      1\u001b[0m \u001b[1;32mfrom\u001b[0m \u001b[0msklearn\u001b[0m\u001b[1;33m.\u001b[0m\u001b[0mmetrics\u001b[0m \u001b[1;32mimport\u001b[0m \u001b[0mr2_score\u001b[0m\u001b[1;33m\u001b[0m\u001b[0m\n\u001b[0;32m      2\u001b[0m \u001b[1;32mfrom\u001b[0m \u001b[0msklearn\u001b[0m\u001b[1;33m.\u001b[0m\u001b[0mmetrics\u001b[0m \u001b[1;32mimport\u001b[0m \u001b[0mmean_squared_error\u001b[0m\u001b[1;33m\u001b[0m\u001b[0m\n\u001b[1;32m----> 3\u001b[1;33m \u001b[0mr2_score\u001b[0m\u001b[1;33m(\u001b[0m\u001b[0my_test\u001b[0m\u001b[1;33m,\u001b[0m \u001b[0mpred\u001b[0m\u001b[1;33m)\u001b[0m\u001b[1;33m\u001b[0m\u001b[0m\n\u001b[0m\u001b[0;32m      4\u001b[0m \u001b[1;31m#mean_squared_error(y_test, pred)\u001b[0m\u001b[1;33m\u001b[0m\u001b[1;33m\u001b[0m\u001b[0m\n",
      "\u001b[1;32mC:\\Users\\Irina\\Anaconda3\\lib\\site-packages\\sklearn\\metrics\\regression.py\u001b[0m in \u001b[0;36mr2_score\u001b[1;34m(y_true, y_pred, sample_weight, multioutput)\u001b[0m\n\u001b[0;32m    442\u001b[0m     \"\"\"\n\u001b[0;32m    443\u001b[0m     y_type, y_true, y_pred, multioutput = _check_reg_targets(\n\u001b[1;32m--> 444\u001b[1;33m         y_true, y_pred, multioutput)\n\u001b[0m\u001b[0;32m    445\u001b[0m \u001b[1;33m\u001b[0m\u001b[0m\n\u001b[0;32m    446\u001b[0m     \u001b[1;32mif\u001b[0m \u001b[0msample_weight\u001b[0m \u001b[1;32mis\u001b[0m \u001b[1;32mnot\u001b[0m \u001b[1;32mNone\u001b[0m\u001b[1;33m:\u001b[0m\u001b[1;33m\u001b[0m\u001b[0m\n",
      "\u001b[1;32mC:\\Users\\Irina\\Anaconda3\\lib\\site-packages\\sklearn\\metrics\\regression.py\u001b[0m in \u001b[0;36m_check_reg_targets\u001b[1;34m(y_true, y_pred, multioutput)\u001b[0m\n\u001b[0;32m     72\u001b[0m \u001b[1;33m\u001b[0m\u001b[0m\n\u001b[0;32m     73\u001b[0m     \"\"\"\n\u001b[1;32m---> 74\u001b[1;33m     \u001b[0mcheck_consistent_length\u001b[0m\u001b[1;33m(\u001b[0m\u001b[0my_true\u001b[0m\u001b[1;33m,\u001b[0m \u001b[0my_pred\u001b[0m\u001b[1;33m)\u001b[0m\u001b[1;33m\u001b[0m\u001b[0m\n\u001b[0m\u001b[0;32m     75\u001b[0m     \u001b[0my_true\u001b[0m \u001b[1;33m=\u001b[0m \u001b[0mcheck_array\u001b[0m\u001b[1;33m(\u001b[0m\u001b[0my_true\u001b[0m\u001b[1;33m,\u001b[0m \u001b[0mensure_2d\u001b[0m\u001b[1;33m=\u001b[0m\u001b[1;32mFalse\u001b[0m\u001b[1;33m)\u001b[0m\u001b[1;33m\u001b[0m\u001b[0m\n\u001b[0;32m     76\u001b[0m     \u001b[0my_pred\u001b[0m \u001b[1;33m=\u001b[0m \u001b[0mcheck_array\u001b[0m\u001b[1;33m(\u001b[0m\u001b[0my_pred\u001b[0m\u001b[1;33m,\u001b[0m \u001b[0mensure_2d\u001b[0m\u001b[1;33m=\u001b[0m\u001b[1;32mFalse\u001b[0m\u001b[1;33m)\u001b[0m\u001b[1;33m\u001b[0m\u001b[0m\n",
      "\u001b[1;32mC:\\Users\\Irina\\Anaconda3\\lib\\site-packages\\sklearn\\utils\\validation.py\u001b[0m in \u001b[0;36mcheck_consistent_length\u001b[1;34m(*arrays)\u001b[0m\n\u001b[0;32m    174\u001b[0m     \u001b[1;32mif\u001b[0m \u001b[0mlen\u001b[0m\u001b[1;33m(\u001b[0m\u001b[0muniques\u001b[0m\u001b[1;33m)\u001b[0m \u001b[1;33m>\u001b[0m \u001b[1;36m1\u001b[0m\u001b[1;33m:\u001b[0m\u001b[1;33m\u001b[0m\u001b[0m\n\u001b[0;32m    175\u001b[0m         raise ValueError(\"Found arrays with inconsistent numbers of samples: \"\n\u001b[1;32m--> 176\u001b[1;33m                          \"%s\" % str(uniques))\n\u001b[0m\u001b[0;32m    177\u001b[0m \u001b[1;33m\u001b[0m\u001b[0m\n\u001b[0;32m    178\u001b[0m \u001b[1;33m\u001b[0m\u001b[0m\n",
      "\u001b[1;31mValueError\u001b[0m: Found arrays with inconsistent numbers of samples: [ 82909 257708]"
     ]
    }
   ],
   "source": [
    "from sklearn.metrics import r2_score\n",
    "from sklearn.metrics import mean_squared_error\n",
    "r2_score(y_test, pred)\n",
    "#mean_squared_error(y_test, pred)"
   ]
  },
  {
   "cell_type": "code",
   "execution_count": 33,
   "metadata": {
    "collapsed": false
   },
   "outputs": [],
   "source": [
    "#y_test"
   ]
  },
  {
   "cell_type": "code",
   "execution_count": null,
   "metadata": {
    "collapsed": false
   },
   "outputs": [],
   "source": []
  },
  {
   "cell_type": "code",
   "execution_count": 109,
   "metadata": {
    "collapsed": false
   },
   "outputs": [],
   "source": [
    "data1 = data1.merge(mean_calls_time_res,on=['hours'],how ='left',sort=False)\n",
    "data1['mean_calls_time']=data1['CSPL_RECEIVED_CALLS']"
   ]
  },
  {
   "cell_type": "code",
   "execution_count": null,
   "metadata": {
    "collapsed": false
   },
   "outputs": [],
   "source": []
  },
  {
   "cell_type": "code",
   "execution_count": 110,
   "metadata": {
    "collapsed": true
   },
   "outputs": [],
   "source": [
    "data1 = data1.merge(mean_calls_time_ASS_res,on=['hours','ASS_ASSIGNMENT'], how ='left', sort=False)\n",
    "data1['mean_calls_time_ASS'] = data1['CSPL_RECEIVED_CALLS_y']"
   ]
  },
  {
   "cell_type": "code",
   "execution_count": null,
   "metadata": {
    "collapsed": false
   },
   "outputs": [],
   "source": []
  },
  {
   "cell_type": "code",
   "execution_count": 111,
   "metadata": {
    "collapsed": false
   },
   "outputs": [],
   "source": [
    "data1 = data1.merge(mean_calls_ASS,on=['ASS_ASSIGNMENT'],how ='left',sort=False)\n",
    "data1['mean_calls_ASS']=data1['CSPL_RECEIVED_CALLS']"
   ]
  },
  {
   "cell_type": "code",
   "execution_count": null,
   "metadata": {
    "collapsed": false
   },
   "outputs": [],
   "source": []
  },
  {
   "cell_type": "code",
   "execution_count": 112,
   "metadata": {
    "collapsed": true
   },
   "outputs": [],
   "source": [
    "X = data1[indexes]"
   ]
  },
  {
   "cell_type": "code",
   "execution_count": 113,
   "metadata": {
    "collapsed": false
   },
   "outputs": [],
   "source": [
    "pred = np.round(model.predict(X)).astype(int)"
   ]
  },
  {
   "cell_type": "code",
   "execution_count": null,
   "metadata": {
    "collapsed": false
   },
   "outputs": [],
   "source": []
  },
  {
   "cell_type": "code",
   "execution_count": 114,
   "metadata": {
    "collapsed": false
   },
   "outputs": [],
   "source": [
    "d = pd.DataFrame(pred, columns=['prediction'])\n",
    "data1['prediction'] = d['prediction']"
   ]
  },
  {
   "cell_type": "code",
   "execution_count": null,
   "metadata": {
    "collapsed": false
   },
   "outputs": [],
   "source": []
  },
  {
   "cell_type": "code",
   "execution_count": 115,
   "metadata": {
    "collapsed": false
   },
   "outputs": [],
   "source": [
    "import csv\n",
    "base_filename = 'submission1.csv'\n",
    "data1[['prediction']].to_csv(base_filename, sep=' ', index=False, quoting=None)"
   ]
  },
  {
   "cell_type": "code",
   "execution_count": null,
   "metadata": {
    "collapsed": false
   },
   "outputs": [],
   "source": []
  },
  {
   "cell_type": "code",
   "execution_count": null,
   "metadata": {
    "collapsed": true
   },
   "outputs": [],
   "source": []
  }
 ],
 "metadata": {
  "anaconda-cloud": {},
  "kernelspec": {
   "display_name": "Python [Root]",
   "language": "python",
   "name": "Python [Root]"
  },
  "language_info": {
   "codemirror_mode": {
    "name": "ipython",
    "version": 3
   },
   "file_extension": ".py",
   "mimetype": "text/x-python",
   "name": "python",
   "nbconvert_exporter": "python",
   "pygments_lexer": "ipython3",
   "version": "3.5.2"
  }
 },
 "nbformat": 4,
 "nbformat_minor": 0
}
