{
 "cells": [
  {
   "cell_type": "code",
   "execution_count": 49,
   "metadata": {
    "collapsed": false
   },
   "outputs": [],
   "source": [
    "import pandas as pds\n",
    "import numpy as np\n",
    "N=100\n",
    "assig = pds.read_csv('train_2011_2012_2013.csv',delimiter=';',usecols=['ASS_ASSIGNMENT'], nrows=N).values.tolist()\n",
    "date = pds.read_csv('train_2011_2012_2013.csv',delimiter=';',usecols=['DATE'], nrows=N).values.tolist()\n",
    "calls = pds.read_csv('train_2011_2012_2013.csv',delimiter=';',usecols=['CSPL_RECEIVED_CALLS'], nrows=N).values.tolist()"
   ]
  },
  {
   "cell_type": "code",
   "execution_count": 50,
   "metadata": {
    "collapsed": false
   },
   "outputs": [],
   "source": [
    "def uniq(input):\n",
    "    output = []\n",
    "    for x in input:\n",
    "        if x not in output:\n",
    "            output.append(x)\n",
    "    return output"
   ]
  },
  {
   "cell_type": "code",
   "execution_count": 57,
   "metadata": {
    "collapsed": false
   },
   "outputs": [
    {
     "data": {
      "text/plain": [
       "[['Téléphonie'],\n",
       " ['RTC'],\n",
       " ['Gestion Renault'],\n",
       " ['Nuit'],\n",
       " ['Gestion - Accueil Telephonique'],\n",
       " ['Regulation Medicale'],\n",
       " ['Services'],\n",
       " ['Tech. Total'],\n",
       " ['Gestion Relation Clienteles'],\n",
       " ['Crises'],\n",
       " ['Japon'],\n",
       " ['Médical'],\n",
       " ['Gestion Assurances'],\n",
       " ['Domicile'],\n",
       " ['Gestion'],\n",
       " ['SAP'],\n",
       " ['RENAULT'],\n",
       " ['Gestion Amex'],\n",
       " ['Tech. Inter'],\n",
       " ['Gestion Clients'],\n",
       " ['Manager'],\n",
       " ['Tech. Axa']]"
      ]
     },
     "execution_count": 57,
     "metadata": {},
     "output_type": "execute_result"
    }
   ],
   "source": [
    "uniq(assig)"
   ]
  },
  {
   "cell_type": "code",
   "execution_count": 67,
   "metadata": {
    "collapsed": false
   },
   "outputs": [],
   "source": [
    "calls_ar = np.reshape(np.asarray(calls), N)\n",
    "date_ar = np.reshape(np.asarray(date), N)"
   ]
  },
  {
   "cell_type": "code",
   "execution_count": 64,
   "metadata": {
    "collapsed": false
   },
   "outputs": [],
   "source": [
    "feature = 'Téléphonie'\n",
    "position = []\n",
    "for i, item in enumerate(assig):\n",
    "    if item[0] == feature:\n",
    "        position.append(i)"
   ]
  },
  {
   "cell_type": "code",
   "execution_count": 68,
   "metadata": {
    "collapsed": false
   },
   "outputs": [],
   "source": [
    "calls_f = calls_ar[position]\n",
    "date_f = date_ar[position]"
   ]
  },
  {
   "cell_type": "code",
   "execution_count": 66,
   "metadata": {
    "collapsed": false
   },
   "outputs": [
    {
     "data": {
      "text/plain": [
       "array([0, 0, 0, 0, 1, 0, 0, 0, 0, 0, 0, 0, 0, 0, 0, 0, 0, 0, 0, 0, 0, 0, 0,\n",
       "       0, 0, 0, 0, 0, 0, 0, 0, 0, 0])"
      ]
     },
     "execution_count": 66,
     "metadata": {},
     "output_type": "execute_result"
    }
   ],
   "source": [
    "calls_f"
   ]
  },
  {
   "cell_type": "code",
   "execution_count": 69,
   "metadata": {
    "collapsed": false
   },
   "outputs": [
    {
     "data": {
      "text/plain": [
       "array(['2011-04-24 01:30:00.000', '2011-04-24 01:30:00.000',\n",
       "       '2011-04-24 01:30:00.000', '2011-04-24 01:30:00.000',\n",
       "       '2011-04-24 01:30:00.000', '2011-04-25 01:30:00.000',\n",
       "       '2011-04-25 01:30:00.000', '2011-04-25 01:30:00.000',\n",
       "       '2011-04-25 01:30:00.000', '2011-04-25 01:30:00.000',\n",
       "       '2011-04-25 01:30:00.000', '2011-04-25 01:30:00.000',\n",
       "       '2011-04-25 01:30:00.000', '2011-04-25 01:30:00.000',\n",
       "       '2011-04-25 01:30:00.000', '2011-04-25 01:30:00.000',\n",
       "       '2011-04-25 01:30:00.000', '2011-04-25 01:30:00.000',\n",
       "       '2011-04-25 01:30:00.000', '2011-04-25 01:30:00.000',\n",
       "       '2011-04-25 01:30:00.000', '2011-04-25 01:30:00.000',\n",
       "       '2011-04-25 01:30:00.000', '2011-01-01 00:00:00.000',\n",
       "       '2011-01-01 00:00:00.000', '2011-01-01 00:00:00.000',\n",
       "       '2011-01-01 00:00:00.000', '2011-01-01 00:00:00.000',\n",
       "       '2011-01-01 00:00:00.000', '2011-01-01 00:00:00.000',\n",
       "       '2011-01-01 00:00:00.000', '2011-01-01 00:00:00.000',\n",
       "       '2011-01-01 00:00:00.000'], \n",
       "      dtype='<U23')"
      ]
     },
     "execution_count": 69,
     "metadata": {},
     "output_type": "execute_result"
    }
   ],
   "source": [
    "date_f"
   ]
  },
  {
   "cell_type": "code",
   "execution_count": null,
   "metadata": {
    "collapsed": true
   },
   "outputs": [],
   "source": []
  }
 ],
 "metadata": {
  "kernelspec": {
   "display_name": "Python [Root]",
   "language": "python",
   "name": "Python [Root]"
  },
  "language_info": {
   "codemirror_mode": {
    "name": "ipython",
    "version": 3
   },
   "file_extension": ".py",
   "mimetype": "text/x-python",
   "name": "python",
   "nbconvert_exporter": "python",
   "pygments_lexer": "ipython3",
   "version": "3.5.2"
  }
 },
 "nbformat": 4,
 "nbformat_minor": 0
}
